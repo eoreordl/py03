{
  "nbformat": 4,
  "nbformat_minor": 0,
  "metadata": {
    "colab": {
      "name": "ch5_code04__name____py03.ipynb",
      "provenance": [],
      "collapsed_sections": [],
      "include_colab_link": true
    },
    "kernelspec": {
      "name": "python3",
      "display_name": "Python 3"
    }
  },
  "cells": [
    {
      "cell_type": "markdown",
      "metadata": {
        "id": "view-in-github",
        "colab_type": "text"
      },
      "source": [
        "<a href=\"https://colab.research.google.com/github/eoreordl/py03/blob/master/notebook/ch5_code04__name____py03.ipynb\" target=\"_parent\"><img src=\"https://colab.research.google.com/assets/colab-badge.svg\" alt=\"Open In Colab\"/></a>"
      ]
    },
    {
      "cell_type": "markdown",
      "metadata": {
        "id": "Te4sR-Yp5fve",
        "colab_type": "text"
      },
      "source": [
        "## if \\_\\_name\\_\\_ == \"\\_\\_main\\_\\_\" 의 의미는?"
      ]
    },
    {
      "cell_type": "markdown",
      "metadata": {
        "id": "APZV3iOx3NX3",
        "colab_type": "text"
      },
      "source": [
        "## Filename: run_or_import.py\n",
        "### Save run_or_import.py in /content folder.\n",
        "```\n",
        "# run_or_import.py\n",
        "if __name__ == '__main__':\n",
        "\tprint('run *.py')\n",
        "else:\n",
        "\tprint('import module')\n",
        "```\n"
      ]
    },
    {
      "cell_type": "markdown",
      "metadata": {
        "id": "LnJ2fJCAhtup",
        "colab_type": "text"
      },
      "source": [
        "### run *.py\n",
        "- 다음 조건이 성립.\n",
        "> \\_\\_name\\_\\_ == '\\_\\_main\\_\\_'"
      ]
    },
    {
      "cell_type": "code",
      "metadata": {
        "id": "1sdg6ocS3Dmc",
        "colab_type": "code",
        "colab": {
          "base_uri": "https://localhost:8080/",
          "height": 35
        },
        "outputId": "04bea358-f016-46a6-8117-753724c97e7d"
      },
      "source": [
        "run run_or_import.py"
      ],
      "execution_count": null,
      "outputs": [
        {
          "output_type": "stream",
          "text": [
            "run *.py\n"
          ],
          "name": "stdout"
        }
      ]
    },
    {
      "cell_type": "code",
      "metadata": {
        "id": "7etqA0MNh8EX",
        "colab_type": "code",
        "colab": {
          "base_uri": "https://localhost:8080/",
          "height": 35
        },
        "outputId": "e67eb3a0-afa7-4d6e-dc26-69ae460af697"
      },
      "source": [
        "!python run_or_import.py"
      ],
      "execution_count": null,
      "outputs": [
        {
          "output_type": "stream",
          "text": [
            "run *.py\n"
          ],
          "name": "stdout"
        }
      ]
    },
    {
      "cell_type": "markdown",
      "metadata": {
        "id": "I0RfgmL0iBtC",
        "colab_type": "text"
      },
      "source": [
        "### import module\n",
        "- 다음 조건이 성립\n",
        "> \\_\\_name\\_\\_ != '\\_\\_main\\_\\_'"
      ]
    },
    {
      "cell_type": "code",
      "metadata": {
        "id": "3Ak72_pVj9gd",
        "colab_type": "code",
        "colab": {
          "base_uri": "https://localhost:8080/",
          "height": 35
        },
        "outputId": "cdc9f5af-6f34-44b9-a6ba-6901f172f946"
      },
      "source": [
        "import run_or_import"
      ],
      "execution_count": null,
      "outputs": [
        {
          "output_type": "stream",
          "text": [
            "import module\n"
          ],
          "name": "stdout"
        }
      ]
    },
    {
      "cell_type": "markdown",
      "metadata": {
        "id": "O9dodOzWi9Un",
        "colab_type": "text"
      },
      "source": [
        "### 차이점을 잘 이해했나요?"
      ]
    },
    {
      "cell_type": "code",
      "metadata": {
        "id": "XpHTpmSCkvNF",
        "colab_type": "code",
        "colab": {}
      },
      "source": [
        ""
      ],
      "execution_count": null,
      "outputs": []
    }
  ]
}