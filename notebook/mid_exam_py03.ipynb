{
  "nbformat": 4,
  "nbformat_minor": 0,
  "metadata": {
    "colab": {
      "name": "mid_exam_py03.ipynb",
      "provenance": [],
      "collapsed_sections": [],
      "include_colab_link": true
    },
    "kernelspec": {
      "name": "python3",
      "display_name": "Python 3"
    }
  },
  "cells": [
    {
      "cell_type": "markdown",
      "metadata": {
        "id": "view-in-github",
        "colab_type": "text"
      },
      "source": [
        "<a href=\"https://colab.research.google.com/github/eoreordl/py03/blob/master/notebook/mid_exam_py03.ipynb\" target=\"_parent\"><img src=\"https://colab.research.google.com/assets/colab-badge.svg\" alt=\"Open In Colab\"/></a>"
      ]
    },
    {
      "cell_type": "markdown",
      "metadata": {
        "id": "ovY5jkD5dpxE",
        "colab_type": "text"
      },
      "source": [
        "## mid_exam_py03.ipynb"
      ]
    },
    {
      "cell_type": "markdown",
      "metadata": {
        "id": "X-limqO7Zr28",
        "colab_type": "text"
      },
      "source": [
        "## 1. 다음 식의 연산 결과는?\n",
        "- a = 5\n",
        "- b = 3\n",
        "- a**b"
      ]
    },
    {
      "cell_type": "code",
      "metadata": {
        "id": "BJgAq086bKYq",
        "colab_type": "code",
        "outputId": "71be3607-4a32-4b2f-954c-9829fa51a22d",
        "colab": {
          "base_uri": "https://localhost:8080/",
          "height": 36
        }
      },
      "source": [
        "# ** 는 지수연산자 이기 때문에 5의 3제곱을 계산하는 것이다.\n",
        "a = 5\n",
        "b = 3\n",
        "print(a**b)"
      ],
      "execution_count": 0,
      "outputs": [
        {
          "output_type": "stream",
          "text": [
            "125\n"
          ],
          "name": "stdout"
        }
      ]
    },
    {
      "cell_type": "markdown",
      "metadata": {
        "id": "miheaFX5dKhT",
        "colab_type": "text"
      },
      "source": [
        "## 2. 다음 문자열 a에 대하여 슬라이싱을 한 결과는?\n",
        "* a = \"Life is too short, You need Python!\"\n",
        "* a[-16:-8]"
      ]
    },
    {
      "cell_type": "code",
      "metadata": {
        "id": "Oa7NkVBSeH-Y",
        "colab_type": "code",
        "outputId": "ea6e2e65-5361-4fd0-b142-f2bdf714d482",
        "colab": {
          "base_uri": "https://localhost:8080/",
          "height": 36
        }
      },
      "source": [
        "# 슬라이싱에 -부호가 달리게 되면 반대로 세어야 하는데 이때 0부터가 아닌 -1을 기준으로 시작해야 한다.\n",
        "# 띄어쓰기도 포함해서 세야한다.\n",
        "a = \"Life is too short, You need Python!\"\n",
        "a[-16:-8]"
      ],
      "execution_count": 0,
      "outputs": [
        {
          "output_type": "execute_result",
          "data": {
            "text/plain": [
              "'You need'"
            ]
          },
          "metadata": {
            "tags": []
          },
          "execution_count": 23
        }
      ]
    },
    {
      "cell_type": "markdown",
      "metadata": {
        "id": "s9mpV6_nekuj",
        "colab_type": "text"
      },
      "source": [
        "## 3. 다음 list a의 인덱싱 결과는?\n",
        "* a = [1, 2, (3, 4), ['a', 'b', ['My', 'Life', 'Good']]]\n",
        "* a[3][-1][0]"
      ]
    },
    {
      "cell_type": "code",
      "metadata": {
        "id": "oon2VpgAekT8",
        "colab_type": "code",
        "outputId": "3a0c7fb1-28db-497d-8f37-edc1a5ef275a",
        "colab": {
          "base_uri": "https://localhost:8080/",
          "height": 36
        }
      },
      "source": [
        "# 인덱싱을 하게 되면 순차적으로 대괄호를 파고 들어가는데\n",
        "# [3] -> ['a', 'b', ['My', 'Life', 'Good']]\n",
        "# [-1] -> ['My', 'Life', 'Good']\n",
        "# [0] -> 'My'\n",
        "# 따라서 인덱싱의 결과는 'My' 이다.\n",
        "a = [1, 2, (3, 4), ['a', 'b', ['My', 'Life', 'Good']]]\n",
        "a[3][-1][0]"
      ],
      "execution_count": 0,
      "outputs": [
        {
          "output_type": "execute_result",
          "data": {
            "text/plain": [
              "'My'"
            ]
          },
          "metadata": {
            "tags": []
          },
          "execution_count": 9
        }
      ]
    },
    {
      "cell_type": "markdown",
      "metadata": {
        "id": "H_7UskzogAyc",
        "colab_type": "text"
      },
      "source": [
        "## 4. 다음 tuple t1의 슬라이싱 결과는?\n",
        "* t1 = (0, 1, \"s\", \"t\", \"u\")\n",
        "* t1[2:-2]"
      ]
    },
    {
      "cell_type": "code",
      "metadata": {
        "id": "GbusDgb5fL-H",
        "colab_type": "code",
        "outputId": "9599a588-ef08-4c08-a8d4-54f5a07da58a",
        "colab": {
          "base_uri": "https://localhost:8080/",
          "height": 36
        }
      },
      "source": [
        "# 튜플에서 요소가 하나일 경우에는 뒤에 ','를 붙인다. \n",
        "t1 = (0, 1, \"s\", \"t\", \"u\")\n",
        "t1[2:-2]"
      ],
      "execution_count": 0,
      "outputs": [
        {
          "output_type": "execute_result",
          "data": {
            "text/plain": [
              "('s',)"
            ]
          },
          "metadata": {
            "tags": []
          },
          "execution_count": 24
        }
      ]
    },
    {
      "cell_type": "markdown",
      "metadata": {
        "id": "JB5IMdGXhQUU",
        "colab_type": "text"
      },
      "source": [
        "## 5. 다음 bool 값 출력 중 정확한 것은?\n",
        "* bool([0, 1, 2]), bool([0]), bool((0)), bool((0,))"
      ]
    },
    {
      "cell_type": "code",
      "metadata": {
        "id": "kolzwMcohOsF",
        "colab_type": "code",
        "colab": {}
      },
      "source": [
        "# 튜플의 데이터 구조는 요소가 하나일 경우 뒤에 ','를 반드시 붙여야한다.\n",
        "# 정답 :(True, True, False, True)\n",
        "# 알맞게 바꾸면 bool([0, 1, 2]), bool([0]), bool((0,)), bool((0,))가 되어야 한다."
      ],
      "execution_count": 0,
      "outputs": []
    },
    {
      "cell_type": "markdown",
      "metadata": {
        "id": "rFXURW7Oh84K",
        "colab_type": "text"
      },
      "source": [
        "## 6. 다음 조건문을 1줄 코드로 변경하시오.\n"
      ]
    },
    {
      "cell_type": "code",
      "metadata": {
        "id": "lJRfxrm7h8Qa",
        "colab_type": "code",
        "outputId": "29b45af5-bbba-41f0-f942-b3bcb8e8a693",
        "colab": {
          "base_uri": "https://localhost:8080/",
          "height": 36
        }
      },
      "source": [
        "score = 80\n",
        "if score >= 60:\n",
        "  message = \"success\"\n",
        "else:\n",
        "  message = \"failure\"\n",
        "# 위의 식을 1줄 코드로 변경하면"
      ],
      "execution_count": 0,
      "outputs": [
        {
          "output_type": "stream",
          "text": [
            "success\n"
          ],
          "name": "stdout"
        }
      ]
    },
    {
      "cell_type": "code",
      "metadata": {
        "id": "QCeKJhzwqI9i",
        "colab_type": "code",
        "outputId": "5db7f23a-ad9c-41a6-ead2-94f4e644e397",
        "colab": {
          "base_uri": "https://localhost:8080/",
          "height": 36
        }
      },
      "source": [
        "# if - else문을 1줄 코드로 만들게 되면 if 는 뒤로 이동하게 된다.\n",
        "message = \"success\" if score >= 60 else \"failure\"\n",
        "print(message)"
      ],
      "execution_count": 0,
      "outputs": [
        {
          "output_type": "stream",
          "text": [
            "success\n"
          ],
          "name": "stdout"
        }
      ]
    },
    {
      "cell_type": "markdown",
      "metadata": {
        "id": "AckE8TndkG8q",
        "colab_type": "text"
      },
      "source": [
        "## 7. 다음 코드의 실행 결과는?"
      ]
    },
    {
      "cell_type": "code",
      "metadata": {
        "id": "QUV70pVOkKos",
        "colab_type": "code",
        "outputId": "4b140754-5807-4ed8-f02b-e91c80304467",
        "colab": {
          "base_uri": "https://localhost:8080/",
          "height": 36
        }
      },
      "source": [
        "# print문은 항목들의 구분을 스페이스바를 한번 누른만큼 띄운 후에 줄을 바꾸게 되는데 \n",
        "#내부에 end라는 문자열이 존재하면 스페이스바의 공간에 e의 값을 넣고 연이어 다음 결과물을 출력하게 된다.\n",
        "\n",
        "games = [\"A\", \"B\", \"C\"]\n",
        "\n",
        "for cnt in range(len(games)):\n",
        "  print(cnt, games[cnt], end=',')"
      ],
      "execution_count": 0,
      "outputs": [
        {
          "output_type": "stream",
          "text": [
            "0 A,1 B,2 C,"
          ],
          "name": "stdout"
        }
      ]
    },
    {
      "cell_type": "markdown",
      "metadata": {
        "id": "9Ybuj78SmFys",
        "colab_type": "text"
      },
      "source": [
        "## 8. 다음의 결과가 출력되지 않는 것은?\n",
        "* 'I ate 10 apples. so I was sick for three days.'"
      ]
    },
    {
      "cell_type": "code",
      "metadata": {
        "id": "edEy4AhrmbuT",
        "colab_type": "code",
        "colab": {}
      },
      "source": [
        "number = 10\n",
        "day = \"three\"\n",
        "\n",
        "a = f\"I ate {number} apples. so I was sick for {'three'} days.\"\n",
        "b = f\"I ate {number} apples. so I was sick for {day} days.\"\n",
        "c = \"I ate {0} apples. so I was sick for {1} days.\".format(10, day)\n",
        "d = \"I ate {0} apples. so I was sick for {1} days.\".format(number = 10, day)\n",
        "\n",
        "# a, b, c 모두 출력되지만 d는 오류가 생긴다\n",
        "# 이유 : {name}를 사용할 경우 format 함수에는 반드시 같은 형태의 입력값이 있어야 하기 때문이다."
      ],
      "execution_count": 0,
      "outputs": []
    },
    {
      "cell_type": "markdown",
      "metadata": {
        "id": "ysskhI2Js6Hb",
        "colab_type": "text"
      },
      "source": [
        "## 9. 리스트 내포를 사용해 1부터 1000이하의 자연수 중 5의 배수의 합을 구하는 한 줄 코드를 작성하시오."
      ]
    },
    {
      "cell_type": "code",
      "metadata": {
        "id": "ECiSb9F4s7To",
        "colab_type": "code",
        "outputId": "83343702-1241-453e-889d-e2c001f2278f",
        "colab": {
          "base_uri": "https://localhost:8080/",
          "height": 36
        }
      },
      "source": [
        "sum([num for num in range(1,1001) if num % 5 == 0])\n",
        "\n",
        "# range(1,1001) : 1000까지 출력함(1001 출력x)\n",
        "# num % 5 == 0 : 5의 배수를 구하는 코드"
      ],
      "execution_count": 0,
      "outputs": [
        {
          "output_type": "execute_result",
          "data": {
            "text/plain": [
              "100500"
            ]
          },
          "metadata": {
            "tags": []
          },
          "execution_count": 32
        }
      ]
    },
    {
      "cell_type": "markdown",
      "metadata": {
        "id": "ADJQnPUXtuow",
        "colab_type": "text"
      },
      "source": [
        "## 10. 4개 과목의 평균 성적을 구하시오. [a], [b]에 적합한 코드는?"
      ]
    },
    {
      "cell_type": "code",
      "metadata": {
        "id": "j6QBH8B-t0nM",
        "colab_type": "code",
        "colab": {}
      },
      "source": [
        "subjects = ['python', 'english', 'math', 'science']\n",
        "scores = [88, 77, 66, 95]\n",
        "total = 0\n",
        "\n",
        "for subject, score in [a].______(subjects,scores):\n",
        "  total += score\n",
        "  print(subject,score)\n",
        "\n",
        "print(\"평균 점수 = {0}\".format([b].______))"
      ],
      "execution_count": 0,
      "outputs": []
    },
    {
      "cell_type": "code",
      "metadata": {
        "id": "oTeXMzizuAfo",
        "colab_type": "code",
        "outputId": "c73dfc92-45f6-421b-e71d-bcdd229b3d7b",
        "colab": {
          "base_uri": "https://localhost:8080/",
          "height": 111
        }
      },
      "source": [
        "subjects = ['python', 'english', 'math', 'science']\n",
        "scores = [88, 77, 66, 95]\n",
        "total = 0\n",
        "\n",
        "for subject, score in zip(subjects,scores): # zip : 동일한 개수로 이루어진 자료형을 묶어 주는 역할\n",
        "  total += score\n",
        "  print(subject, score)\n",
        "\n",
        "print(\"평균 점수 = {0}\".format(total/len(subjects))) \n",
        "\n",
        "# [a] : zip\n",
        "# [b] : total/len(subjects)"
      ],
      "execution_count": 0,
      "outputs": [
        {
          "output_type": "stream",
          "text": [
            "python 88\n",
            "english 77\n",
            "math 66\n",
            "science 95\n",
            "평균 점수 = 81.5\n"
          ],
          "name": "stdout"
        }
      ]
    }
  ]
}